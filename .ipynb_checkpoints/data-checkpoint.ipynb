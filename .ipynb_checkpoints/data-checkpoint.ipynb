{
 "cells": [
  {
   "cell_type": "code",
   "execution_count": 1,
   "id": "76537eaa",
   "metadata": {},
   "outputs": [],
   "source": [
    "import torch\n",
    "import numpy as np\n",
    "import os\n",
    "\n",
    "splits = [\"train\", \"test\"]\n",
    "train_data_path = \"./data/matrix_data/train_data/\"\n",
    "test_data_path = \"./data/matrix_data/test_data/\"\n",
    "shuffle = {'train': True, 'test': False}\n",
    "\n",
    "def load_data():\n",
    "    dataset = {}\n",
    "    train_file_list = os.listdir(train_data_path)\n",
    "    test_file_list = os.listdir(test_data_path)\n",
    "    train_file_list.sort(key = lambda x:int(x[11:-4]))\n",
    "    test_file_list.sort(key = lambda x:int(x[10:-4]))\n",
    "    train_data, test_data = [],[]\n",
    "    for obj in train_file_list:   \n",
    "        train_file_path = train_data_path + obj\n",
    "        train_matrix = np.load(train_file_path)\n",
    "        #train_matrix = np.transpose(train_matrix, (0, 2, 3, 1))\n",
    "        train_data.append(train_matrix)\n",
    "\n",
    "    for obj in test_file_list:\n",
    "        test_file_path = test_data_path + obj\n",
    "        test_matrix = np.load(test_file_path)\n",
    "        #test_matrix = np.transpose(test_matrix, (0, 2, 3, 1))\n",
    "        test_data.append(test_matrix)\n",
    "\n",
    "    dataset[\"train\"] = torch.from_numpy(np.array(train_data)).float()\n",
    "    dataset[\"test\"] = torch.from_numpy(np.array(test_data)).float()\n",
    "\n",
    "    dataloader = {x: torch.utils.data.DataLoader(\n",
    "                                dataset=dataset[x], batch_size=1, shuffle=shuffle[x]) \n",
    "                                for x in splits}\n",
    "    return dataloader"
   ]
  },
  {
   "cell_type": "code",
   "execution_count": null,
   "id": "0d87708e",
   "metadata": {},
   "outputs": [],
   "source": []
  }
 ],
 "metadata": {
  "kernelspec": {
   "display_name": "Python 3 (ipykernel)",
   "language": "python",
   "name": "python3"
  },
  "language_info": {
   "codemirror_mode": {
    "name": "ipython",
    "version": 3
   },
   "file_extension": ".py",
   "mimetype": "text/x-python",
   "name": "python",
   "nbconvert_exporter": "python",
   "pygments_lexer": "ipython3",
   "version": "3.10.6"
  }
 },
 "nbformat": 4,
 "nbformat_minor": 5
}
